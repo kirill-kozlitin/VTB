{
  "cells": [
    {
      "cell_type": "markdown",
      "metadata": {
        "id": "view-in-github",
        "colab_type": "text"
      },
      "source": [
        "<a href=\"https://colab.research.google.com/github/kirill-kozlitin/VTB/blob/main/check_autologreg.ipynb\" target=\"_parent\"><img src=\"https://colab.research.google.com/assets/colab-badge.svg\" alt=\"Open In Colab\"/></a>"
      ]
    },
    {
      "cell_type": "markdown",
      "metadata": {
        "id": "z80hnlAYkBsD"
      },
      "source": [
        "<h1>Содержание<span class=\"tocSkip\"></span></h1>\n",
        "<div class=\"toc\"><ul class=\"toc-item\"></ul></div>"
      ]
    },
    {
      "cell_type": "markdown",
      "metadata": {
        "id": "XOGd_WlIkBsI"
      },
      "source": [
        "Тетрадка представляет собой пример построения скоринговой модели с помощью инструментов автологрега."
      ]
    },
    {
      "cell_type": "markdown",
      "source": [
        "## 1. Загрузка данных"
      ],
      "metadata": {
        "id": "O9ee8WLgK9wJ"
      }
    },
    {
      "cell_type": "code",
      "execution_count": 1,
      "metadata": {
        "colab": {
          "base_uri": "https://localhost:8080/"
        },
        "id": "ojFxzqMnmdIm",
        "outputId": "f445e146-b192-4a04-b739-85058a12e013"
      },
      "outputs": [
        {
          "output_type": "stream",
          "name": "stdout",
          "text": [
            "Drive already mounted at /content/drive; to attempt to forcibly remount, call drive.mount(\"/content/drive\", force_remount=True).\n"
          ]
        }
      ],
      "source": [
        "# Подключение к облачному хранилищу\n",
        "from google.colab import drive\n",
        "drive.mount('/content/drive')"
      ]
    },
    {
      "cell_type": "code",
      "execution_count": 2,
      "metadata": {
        "id": "gE5ZQX7IvCNG"
      },
      "outputs": [],
      "source": [
        "# Установка необходимых для работы библиотеки пакетов\n",
        "!pip install -q xlsxwriter\n",
        "!pip install -q tsfresh\n",
        "!pip install -q optbinning"
      ]
    },
    {
      "cell_type": "code",
      "execution_count": 3,
      "metadata": {
        "colab": {
          "base_uri": "https://localhost:8080/"
        },
        "id": "QXX0MAP5g_El",
        "outputId": "f3998f9e-e335-4bfe-8f35-b5bafb11ace0"
      },
      "outputs": [
        {
          "output_type": "stream",
          "name": "stdout",
          "text": [
            "(CVXPY) Jul 29 01:50:18 PM: Encountered unexpected exception importing solver GLOP:\n",
            "RuntimeError('Unrecognized new version of ortools (9.6.2534). Expected < 9.5.0.Please open a feature request on cvxpy to enable support for this version.')\n",
            "(CVXPY) Jul 29 01:50:18 PM: Encountered unexpected exception importing solver PDLP:\n",
            "RuntimeError('Unrecognized new version of ortools (9.6.2534). Expected < 9.5.0.Please open a feature request on cvxpy to enable support for this version.')\n"
          ]
        }
      ],
      "source": [
        "# Импорт библиотек\n",
        "import pandas as pd\n",
        "import sys\n",
        "\n",
        "path = 'drive/MyDrive/VTB/'\n",
        "sys.path.append(path)\n",
        "\n",
        "import vtb_mlkit\n",
        "from vtb_mlkit.scorekit.model import LogisticRegressionModel\n",
        "from vtb_mlkit.scorekit.data import DataSamples\n"
      ]
    },
    {
      "cell_type": "code",
      "execution_count": 4,
      "metadata": {
        "id": "5UV-KSX1kBsN",
        "colab": {
          "base_uri": "https://localhost:8080/"
        },
        "outputId": "ae3acd75-f904-4e88-cb34-f46214135472"
      },
      "outputs": [
        {
          "output_type": "stream",
          "name": "stdout",
          "text": [
            "Размер датасета: (999988, 51)\n"
          ]
        }
      ],
      "source": [
        "# загрузка датасета\n",
        "data = pd.read_csv(path + 'loan_data.csv', sep=';',)# nrows=10**5)\n",
        "print('Размер датасета:', data.shape)"
      ]
    },
    {
      "cell_type": "code",
      "source": [
        "# загрузка описания фичей\n",
        "description = pd.read_excel(path + 'lending_club_description.xlsx')\n",
        "description.index = description.index.astype(str) # костыль. Должно работать на любых данных"
      ],
      "metadata": {
        "id": "2MrB9-edrA3A"
      },
      "execution_count": 5,
      "outputs": []
    },
    {
      "cell_type": "markdown",
      "source": [
        "## Обучение"
      ],
      "metadata": {
        "id": "5_a5jbPpK6Cq"
      }
    },
    {
      "cell_type": "code",
      "source": [
        "# Создаем объект класса DataSample\n",
        "ds = DataSamples(samples={'train': data.copy()}, target='target', feature_descriptions=description, time_column='date')"
      ],
      "metadata": {
        "colab": {
          "base_uri": "https://localhost:8080/"
        },
        "id": "LvdTwHz8K4rd",
        "outputId": "fc629d8a-73ab-429b-f803-c1e7f53b32fb"
      },
      "execution_count": 6,
      "outputs": [
        {
          "output_type": "stream",
          "name": "stdout",
          "text": [
            "[INFO] [2023-07-29 13:50:27] ---------------------------------------------------------------- Creating DataSamples ----------------------------------------------------------------\n",
            "[INFO] [2023-07-29 13:50:28] Selected 49 features: ['int_rate', 'out_prncp', 'out_prncp_inv', 'recoveries', 'collection_recovery_fee', 'loan_amnt', 'funded_amnt', 'funded_amnt_inv', 'installment', 'num_rev_tl_bal_gt_0', 'num_actv_rev_tl', 'fico_range_high', 'fico_range_low', 'acc_open_past_24mths', 'total_bal_ex_mort', 'num_actv_bc_tl', 'revol_bal', 'num_sats', 'open_acc', 'num_tl_op_past_12m', 'num_op_rev_tl', 'total_il_high_credit_limit', 'inq_last_6mths', 'mo_sin_rcnt_tl', 'num_il_tl', 'mort_acc', 'num_bc_sats', 'mo_sin_rcnt_rev_tl_op', 'avg_cur_bal', 'total_acc', 'mo_sin_old_rev_tl_op', 'total_bc_limit', 'annual_inc', 'tot_hi_cred_lim', 'delinq_2yrs', 'num_accts_ever_120_pd', 'num_bc_tl', 'tot_coll_amt', 'pub_rec', 'pub_rec_bankruptcies', 'pct_tl_nvr_dlq', 'num_tl_90g_dpd_24m', 'collections_12_mths_ex_med', 'total_rev_hi_lim', 'chargeoff_within_12_mths', 'tax_liens', 'tot_cur_bal', 'num_tl_30dpd', 'delinq_amnt']\n",
            "[INFO] [2023-07-29 13:50:28] Selected 5 categorical features: ['inq_last_6mths', 'pub_rec_bankruptcies', 'collections_12_mths_ex_med', 'chargeoff_within_12_mths', 'num_tl_30dpd']\n",
            "[INFO] [2023-07-29 13:50:28] DataSamples stats:\n",
            "                               train\n",
            "amount                        999988\n",
            "target                        549703\n",
            "target_rate                     0.55\n",
            "period       01.01.2015 - 01.12.2015\n"
          ]
        }
      ]
    },
    {
      "cell_type": "code",
      "source": [
        "# На основании существующих фичей генерируем дополнительные новые\n",
        "ds.feature_generator(features=None, prebinning=True, chunk_size=10000, gini_threshold=10, operands=True,\n",
        "                     lags=True, aggs=None, corr_method='spearman', corr_thres=0.80)"
      ],
      "metadata": {
        "colab": {
          "base_uri": "https://localhost:8080/"
        },
        "id": "BQC627dzKyV6",
        "outputId": "cd2ac23e-0a9d-454f-a40d-a111d9547381"
      },
      "execution_count": 7,
      "outputs": [
        {
          "output_type": "stream",
          "name": "stdout",
          "text": [
            "[INFO] [2023-07-29 13:51:19] Creating combinations...\n"
          ]
        },
        {
          "output_type": "stream",
          "name": "stderr",
          "text": [
            "100%|██████████| 18/18 [00:21<00:00,  1.21s/it]"
          ]
        },
        {
          "output_type": "stream",
          "name": "stdout",
          "text": [
            "[INFO] [2023-07-29 13:51:41] 18 features were generated, 0 of them passed the tests and were added to sample train\n"
          ]
        },
        {
          "output_type": "stream",
          "name": "stderr",
          "text": [
            "\n"
          ]
        }
      ]
    },
    {
      "cell_type": "code",
      "source": [
        "# Разбиваем выборку на трейн и тест\n",
        "ds.samples_split(df=None, test_size=.3, validate_size=0, split_type='oos', stratify=True, id_column=None)"
      ],
      "metadata": {
        "colab": {
          "base_uri": "https://localhost:8080/"
        },
        "id": "54FO8J2zLdf4",
        "outputId": "df1fc5c1-b311-496c-d4c3-9ff0bee324c0"
      },
      "execution_count": 8,
      "outputs": [
        {
          "output_type": "stream",
          "name": "stdout",
          "text": [
            "[INFO] [2023-07-29 13:51:43] Actual parts of samples after samples split:\n",
            "      train  Test\n",
            "part    0.7   0.3\n"
          ]
        }
      ]
    },
    {
      "cell_type": "code",
      "execution_count": 9,
      "metadata": {
        "colab": {
          "base_uri": "https://localhost:8080/"
        },
        "id": "G1QGi2dImuuV",
        "outputId": "0679c406-a80d-4ce8-89f6-a3099aceaec2"
      },
      "outputs": [
        {
          "output_type": "stream",
          "name": "stdout",
          "text": [
            "[INFO] [2023-07-29 13:51:43] Chosen model classifier is SGDClassifier(alpha=0.001, loss='log', random_state=0)\n"
          ]
        }
      ],
      "source": [
        "# Создаем объект класса LogisticRegressionModel\n",
        "logreg = LogisticRegressionModel(clf=None,            # классификатор модели (должен иметь метод fit() и атрибуты coef_, intercept_). При None выбирается SGDClassifier(alpha=0.001, loss='log', max_iter=100)\n",
        "                                 ds=ds,               # Привязанный к модели ДатаСэмпл. Если задан, то он по умолчанию будет использоваться во всех методах\n",
        "                                 transformer=None,    # объект класса WOE для предварительной трансформации факторов\n",
        "                                 round_digits=3,      # округление коэффициентов до этого кол-ва знаков после запятой\n",
        "                                 name='loan',      # название модели\n",
        "                                )\n"
      ]
    },
    {
      "cell_type": "code",
      "execution_count": null,
      "metadata": {
        "colab": {
          "base_uri": "https://localhost:8080/"
        },
        "id": "lxTyj5beqOax",
        "outputId": "5bf64ddb-284a-4655-e8f6-0599f65bafea"
      },
      "outputs": [
        {
          "output_type": "stream",
          "name": "stdout",
          "text": [
            "[INFO] [2023-07-29 13:51:44] ------------------------------------------------------------------------ SFA -------------------------------------------------------------------------\n",
            "[INFO] [2023-07-29 13:51:44] Performing autobinning with parameters space of size 1...\n",
            "[INFO] [2023-07-29 13:51:44] Using parameters set 1/1: {'method': 'opt', 'max_n_bins': 10, 'min_bin_size': 0.05, 'criterion': 'entropy', 'scoring': 'neg_log_loss', 'max_depth': 5, 'solver': 'cp', 'divergence': 'iv', 'WOEM_on': True, 'WOEM_woe_threshold': 0.05, 'WOEM_with_missing': False, 'SM_on': False, 'SM_target_threshold': 5, 'SM_size_threshold': 100, 'G_on': False, 'G_gini_threshold': 5, 'G_gini_decrease_threshold': 0.25, 'G_gini_increase_restrict': False, 'G_with_test': False, 'BL_on': True, 'BL_allow_Vlogic_to_increase_gini': 10, 'WOEO_on': True, 'WOEO_all_samples': False, 'verbose': False}\n",
            "[INFO] [2023-07-29 13:51:44] Processing 49 features on 1 CPU...\n"
          ]
        },
        {
          "output_type": "stream",
          "name": "stderr",
          "text": [
            " 20%|██        | 10/49 [00:43<03:44,  5.77s/it]"
          ]
        }
      ],
      "source": [
        "# Запускаем процесс обучения модели\n",
        "logreg.auto_logreg(data=None, target=None, time_column=None, id_column=None, feature_descriptions=description, n_jobs=None,\n",
        "                   result_folder='', method='opt', validate=False, out='auto_model.xlsx', save_model='auto_model.json')"
      ]
    },
    {
      "cell_type": "code",
      "source": [
        "ds.feature_descriptions[['Название', 'Описание']].head(10)"
      ],
      "metadata": {
        "id": "CwBcDzqJb2jY"
      },
      "execution_count": null,
      "outputs": []
    },
    {
      "cell_type": "code",
      "execution_count": null,
      "metadata": {
        "id": "w-oj8eghaed4"
      },
      "outputs": [],
      "source": [
        "# классификатор модели (должен иметь метод fit() и атрибуты coef_, intercept_)\n",
        "logreg.clf"
      ]
    },
    {
      "cell_type": "code",
      "execution_count": null,
      "metadata": {
        "id": "nDcdICS7NvN1"
      },
      "outputs": [],
      "source": [
        "# словарь коэффициентов\n",
        "logreg.coefs"
      ]
    },
    {
      "cell_type": "code",
      "execution_count": null,
      "metadata": {
        "id": "D5h0bZ6WNxqo"
      },
      "outputs": [],
      "source": [
        "# константа логрега\n",
        "logreg.intercept"
      ]
    },
    {
      "cell_type": "code",
      "execution_count": null,
      "metadata": {
        "id": "R7aSy6-MN1GT"
      },
      "outputs": [],
      "source": [
        "logreg.report(ds=None, out='report.xlsx', sheet_name=None, pvalue_threshold=0.05, verbose=False, add_figs=None, gini_df=None,\n",
        "              plotbins_config=None, metrics=None, metrics_cv=None, cv=None)"
      ]
    }
  ],
  "metadata": {
    "colab": {
      "provenance": [],
      "include_colab_link": true
    },
    "kernelspec": {
      "display_name": "Python 3",
      "name": "python3"
    },
    "language_info": {
      "codemirror_mode": {
        "name": "ipython",
        "version": 3
      },
      "file_extension": ".py",
      "mimetype": "text/x-python",
      "name": "python",
      "nbconvert_exporter": "python",
      "pygments_lexer": "ipython3",
      "version": "3.8.5"
    },
    "toc": {
      "base_numbering": 1,
      "nav_menu": {},
      "number_sections": true,
      "sideBar": true,
      "skip_h1_title": false,
      "title_cell": "Содержание",
      "title_sidebar": "Contents",
      "toc_cell": true,
      "toc_position": {},
      "toc_section_display": true,
      "toc_window_display": false
    }
  },
  "nbformat": 4,
  "nbformat_minor": 0
}